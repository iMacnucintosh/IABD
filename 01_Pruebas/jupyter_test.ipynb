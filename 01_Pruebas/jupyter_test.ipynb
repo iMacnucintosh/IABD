{
 "cells": [
  {
   "cell_type": "code",
   "execution_count": null,
   "metadata": {},
   "outputs": [],
   "source": [
    "class Moto:\n",
    "    def __init__(self):\n",
    "        self.marca = \"Yamaha\"\n",
    "        self.modelo = \"Tenere 700\"\n",
    "        self.color = \"Tech Kamo\"\n",
    "        self.en_marcha = False\n",
    "    def arrancar(self):\n",
    "        self.en_marcha = True\n",
    "\n",
    "if __name__ == \"__main__\":\n",
    "    t7 = Moto()\n",
    "    t7.arrancar()\n",
    "\n",
    "    print(t7.en_marcha)"
   ]
  }
 ],
 "metadata": {
  "language_info": {
   "name": "python"
  }
 },
 "nbformat": 4,
 "nbformat_minor": 2
}
