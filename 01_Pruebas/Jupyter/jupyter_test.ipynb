{
 "cells": [
  {
   "cell_type": "markdown",
   "metadata": {},
   "source": [
    "# Cuaderno jupyter prueba"
   ]
  },
  {
   "cell_type": "code",
   "execution_count": 1,
   "metadata": {},
   "outputs": [
    {
     "name": "stdout",
     "output_type": "stream",
     "text": [
      "Moto Yamaha Tenere 700 de color Tech Kamo, estado: detenida\n",
      "La moto Yamaha Tenere 700 ha arrancado.\n",
      "Moto Yamaha Tenere 700 de color Tech Kamo, estado: en marcha\n",
      "La moto Yamaha Tenere 700 ha detenido su marcha.\n",
      "Moto Yamaha Tenere 700 de color Tech Kamo, estado: detenida\n",
      "Moto Kawasaki Versys 650 de color Verde, estado: detenida\n",
      "La moto Kawasaki Versys 650 ha arrancado.\n",
      "Moto Kawasaki Versys 650 de color Verde, estado: en marcha\n"
     ]
    }
   ],
   "source": [
    "class Moto:\n",
    "    def __init__(self, marca=\"Yamaha\", modelo=\"Tenere 700\", color=\"Tech Kamo\"):\n",
    "        self.marca = marca\n",
    "        self.modelo = modelo\n",
    "        self.color = color\n",
    "        self.en_marcha = False\n",
    "\n",
    "    def arrancar(self):\n",
    "        self.en_marcha = True\n",
    "        print(f\"La moto {self.marca} {self.modelo} ha arrancado.\")\n",
    "\n",
    "    def detener(self):\n",
    "        self.en_marcha = False\n",
    "        print(f\"La moto {self.marca} {self.modelo} ha detenido su marcha.\")\n",
    "\n",
    "    def __str__(self):\n",
    "        estado = \"en marcha\" if self.en_marcha else \"detenida\"\n",
    "        return f\"Moto {self.marca} {self.modelo} de color {self.color}, estado: {estado}\"\n",
    "\n",
    "# Prueba de la clase\n",
    "if __name__ == \"__main__\":\n",
    "    # Puedes crear una moto con diferentes valores\n",
    "    t7 = Moto()  # Usando valores por defecto\n",
    "    print(t7)\n",
    "    t7.arrancar()\n",
    "    print(t7)\n",
    "    t7.detener()\n",
    "    print(t7)\n",
    "\n",
    "    # Creando otra moto con valores personalizados\n",
    "    m1 = Moto(marca=\"Kawasaki\", modelo=\"Versys 650\", color=\"Verde\")\n",
    "    print(m1)\n",
    "    m1.arrancar()\n",
    "    print(m1)\n"
   ]
  }
 ],
 "metadata": {
  "kernelspec": {
   "display_name": ".env",
   "language": "python",
   "name": "python3"
  },
  "language_info": {
   "codemirror_mode": {
    "name": "ipython",
    "version": 3
   },
   "file_extension": ".py",
   "mimetype": "text/x-python",
   "name": "python",
   "nbconvert_exporter": "python",
   "pygments_lexer": "ipython3",
   "version": "3.11.11"
  }
 },
 "nbformat": 4,
 "nbformat_minor": 2
}
